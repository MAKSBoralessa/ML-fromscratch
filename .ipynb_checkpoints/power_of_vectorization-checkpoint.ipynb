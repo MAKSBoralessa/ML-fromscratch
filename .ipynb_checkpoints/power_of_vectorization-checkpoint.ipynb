{
 "cells": [
  {
   "cell_type": "markdown",
   "metadata": {},
   "source": [
    "### To show the power of vectorization"
   ]
  },
  {
   "cell_type": "code",
   "execution_count": 2,
   "metadata": {},
   "outputs": [],
   "source": [
    "import time\n",
    "import numpy as np"
   ]
  },
  {
   "cell_type": "code",
   "execution_count": 3,
   "metadata": {},
   "outputs": [],
   "source": [
    "a = np.random.rand(1000000)\n",
    "b = np.random.rand(1000000)"
   ]
  },
  {
   "cell_type": "code",
   "execution_count": 8,
   "metadata": {},
   "outputs": [
    {
     "name": "stdout",
     "output_type": "stream",
     "text": [
      "Vectorized version time : 1.9640922546386719ms\n",
      "for loop version time : 753.0150413513184ms\n"
     ]
    }
   ],
   "source": [
    "tik = time.time()\n",
    "c = np.dot(a, b)\n",
    "tok = time.time()\n",
    "\n",
    "print(\"Vectorized version time : \" + str(1000*(tok - tik)) + \"ms\")\n",
    "\n",
    "c = 0\n",
    "tik = time.time()\n",
    "for i in range(1000000):\n",
    "    c += a[i] * b[i]\n",
    "tok = time.time()\n",
    "\n",
    "print(\"for loop version time : \" + str(1000*(tok - tik)) + \"ms\")"
   ]
  },
  {
   "cell_type": "code",
   "execution_count": null,
   "metadata": {},
   "outputs": [],
   "source": []
  }
 ],
 "metadata": {
  "kernelspec": {
   "display_name": "Python 3",
   "language": "python",
   "name": "python3"
  },
  "language_info": {
   "codemirror_mode": {
    "name": "ipython",
    "version": 3
   },
   "file_extension": ".py",
   "mimetype": "text/x-python",
   "name": "python",
   "nbconvert_exporter": "python",
   "pygments_lexer": "ipython3",
   "version": "3.7.6"
  }
 },
 "nbformat": 4,
 "nbformat_minor": 4
}
